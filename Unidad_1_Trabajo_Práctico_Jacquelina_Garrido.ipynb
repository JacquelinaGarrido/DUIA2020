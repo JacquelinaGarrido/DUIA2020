{
  "nbformat": 4,
  "nbformat_minor": 0,
  "metadata": {
    "colab": {
      "name": "Unidad 1 - Trabajo Práctico - Jacquelina Garrido.ipynb",
      "provenance": [],
      "collapsed_sections": [],
      "toc_visible": true
    },
    "kernelspec": {
      "name": "python3",
      "display_name": "Python 3"
    }
  },
  "cells": [
    {
      "cell_type": "markdown",
      "metadata": {
        "id": "tc1ysVFKujWC",
        "colab_type": "text"
      },
      "source": [
        "Durante el desarrollo del práctico, se va a trabajar con el **Fish Dataset**"
      ]
    },
    {
      "cell_type": "markdown",
      "metadata": {
        "id": "XmWOobOhKCpH",
        "colab_type": "text"
      },
      "source": [
        "# 1. Configuración del ambiente"
      ]
    },
    {
      "cell_type": "code",
      "metadata": {
        "id": "6Z_H3mPuKL38",
        "colab_type": "code",
        "outputId": "feaf83af-78fc-4134-99a7-318b0e126c6a",
        "colab": {
          "base_uri": "https://localhost:8080/",
          "height": 52
        }
      },
      "source": [
        "# instalamos el paquete para descargar archivos\n",
        "!pip install wget\n",
        "\n",
        "# montar la unidad de google drive\n",
        "from google.colab import drive\n",
        "drive.mount('/content/gdrive/')\n",
        "\n",
        "# crear las carpetas necesarias\n",
        "from os import makedirs\n",
        "datasets_folder = '/content/gdrive/My Drive/Colab Notebooks/DUIA/2020/Machine Learning/'\n",
        "makedirs(datasets_folder, exist_ok=True)\n",
        "\n",
        "# importo numpy\n",
        "import numpy as np\n",
        "np.set_printoptions(precision=3, suppress=True) # y hago un truco para imprimir solamente 3 decimales\n",
        "\n",
        "# importo una librería para utilizar valores aleatorios\n",
        "import random\n",
        "random.seed(10)\n",
        "np.random.seed(10)"
      ],
      "execution_count": 2,
      "outputs": [
        {
          "output_type": "stream",
          "text": [
            "Requirement already satisfied: wget in /usr/local/lib/python3.6/dist-packages (3.2)\n",
            "Drive already mounted at /content/gdrive/; to attempt to forcibly remount, call drive.mount(\"/content/gdrive/\", force_remount=True).\n"
          ],
          "name": "stdout"
        }
      ]
    },
    {
      "cell_type": "markdown",
      "metadata": {
        "id": "auhY6Y0KKS18",
        "colab_type": "text"
      },
      "source": [
        "# 2. Datos necesarios para trabajar"
      ]
    },
    {
      "cell_type": "code",
      "metadata": {
        "id": "Erd0R8zdKkLz",
        "colab_type": "code",
        "outputId": "baec2a2d-c2e3-470c-8e71-ed418524ed69",
        "colab": {
          "base_uri": "https://localhost:8080/",
          "height": 34
        }
      },
      "source": [
        "# importamos el paquete para descargar archivos\n",
        "import wget\n",
        "from os import path\n",
        "\n",
        "# establecemos las características del data set\n",
        "fish_dataset = dict()\n",
        "fish_dataset['url'] = 'https://raw.githubusercontent.com/ignaciorlando/duia-ml-datasets/master/FishDataset/datasets_229906_491820_Fish.csv'\n",
        "fish_dataset['extension'] = '.csv'\n",
        "fish_dataset['filename'] = path.join(datasets_folder, 'fish_dataset' + fish_dataset['extension']) \n",
        "if not path.exists(fish_dataset['filename']):  # descargar solamente si no existe\n",
        "  wget.download(fish_dataset['url'], fish_dataset['filename'])\n",
        "else:\n",
        "  print('El archivo {} ya existe.'.format(fish_dataset['filename']))\n"
      ],
      "execution_count": 3,
      "outputs": [
        {
          "output_type": "stream",
          "text": [
            "El archivo /content/gdrive/My Drive/Colab Notebooks/DUIA/2020/Machine Learning/fish_dataset.csv ya existe.\n"
          ],
          "name": "stdout"
        }
      ]
    },
    {
      "cell_type": "markdown",
      "metadata": {
        "id": "s6G5t6fdPWes",
        "colab_type": "text"
      },
      "source": [
        "# 3. Explorar datos crudos"
      ]
    },
    {
      "cell_type": "code",
      "metadata": {
        "id": "nroe6_6aRF_J",
        "colab_type": "code",
        "outputId": "83197a97-8047-4bf3-b012-d6e11b7469fd",
        "colab": {
          "base_uri": "https://localhost:8080/",
          "height": 123
        }
      },
      "source": [
        "# abrimos el archivo utilizando una función específica de numpy \n",
        "# y lo colocamos en una matriz\n",
        "\n",
        "#se cuantifica la columna categórica \"Species\"\n",
        "species = ['Bream', 'Roach', 'Whitefish', 'Parkki', 'Perch', 'Pike', 'Smelt']\n",
        "cat = {\n",
        "    specie: index for index, specie in enumerate(species)\n",
        "}\n",
        "\n",
        "raw_dataset = np.genfromtxt(fish_dataset['filename'], \n",
        "                            skip_header=1,\n",
        "                            delimiter=\",\",\n",
        "                            encoding='utf-8',\n",
        "                            converters = {0: lambda x: float(cat.get(x, 100))})\n",
        "# verificamos el tamaño de la matriz que abrimos (filas x columnas)\n",
        "print('Dataset size: {}'.format(raw_dataset.shape))\n",
        "# imprimimos las primeras 4 filas para ver qué tipo de datos tenemos\n",
        "print('First 4 rows:')\n",
        "print(raw_dataset[0:4,:])"
      ],
      "execution_count": 4,
      "outputs": [
        {
          "output_type": "stream",
          "text": [
            "Dataset size: (159, 7)\n",
            "First 4 rows:\n",
            "[[  0.    242.     23.2    25.4    30.     11.52    4.02 ]\n",
            " [  0.    290.     24.     26.3    31.2    12.48    4.306]\n",
            " [  0.    340.     23.9    26.5    31.1    12.378   4.696]\n",
            " [  0.    363.     26.3    29.     33.5    12.73    4.455]]\n"
          ],
          "name": "stdout"
        }
      ]
    },
    {
      "cell_type": "markdown",
      "metadata": {
        "id": "I7qzE2My3Q8P",
        "colab_type": "text"
      },
      "source": [
        "Este dataset tiene 7 especies distintas de peces que existen en el mercado.\n",
        "Con este dataset, se puede realizar un modelo predictivo para estimar el peso de un pez.\n",
        "\n",
        "Cada columna de nuestro conjunto de datos representa las siguientes features:\n",
        "- **Species**: Nombre de la especie del pez\n",
        "- **Length1**: Longitud vertical en cm\n",
        "- **Length2**: Longitud diagonal en cm\n",
        "- **Length3**: Longitud a lo largo en cm\n",
        "- **Height**: Altura en cm\n",
        "- **Width**: Ancho en cm \n",
        "- **Weight**: Peso del pez en gramos (grs)\n",
        "\n",
        "Tenemos las etiquetas ('**Weight**', el peso de los peces) mezcladas con las features. La acción correctiva es separar esta variable.\n",
        "Aplicamos entonces la acción correctiva, y construimos nuestra matriz de diseño y nuestro arreglo de etiquetas:"
      ]
    },
    {
      "cell_type": "markdown",
      "metadata": {
        "id": "_mGGSa_z6ztk",
        "colab_type": "text"
      },
      "source": [
        "En el análisis de los datos (más adelante), se concluyó que las 3 features de longitud (**Length1, Length2 y Length3**) están fuertemente vinculadas, por lo cual se dejó sólo la feature **Length1** y se removieron las features **Length2 y Length3**."
      ]
    },
    {
      "cell_type": "code",
      "metadata": {
        "id": "y_sGevzE88Dc",
        "colab_type": "code",
        "outputId": "b1380d34-070d-4304-b9c4-3de5f86021f5",
        "colab": {
          "base_uri": "https://localhost:8080/",
          "height": 194
        }
      },
      "source": [
        "# definimos un diccionario con tags para las features que vamos a mantener y sus\n",
        "# descriptiones\n",
        "feature_labels = dict()\n",
        "feature_labels['Species']='especie del pez'\n",
        "feature_labels['Length1']='longitud vertical (en cm)'\n",
        "#feature_labels['Length2']='longitud diagonal (en cm)'\n",
        "#feature_labels['Length3']='longitud a lo largo (en cm)'\n",
        "feature_labels['Height']='altura (en cm)'\n",
        "feature_labels['Width']='ancho (en cm)'\n",
        "fish_dataset['feature-labels'] = feature_labels\n",
        "\n",
        "print(feature_labels.keys())\n",
        "\n",
        "# recuperamos únicamente las columnas que nos interesa mantener como features\n",
        "X = raw_dataset[:,[0,2,5,6]]\n",
        "# y armamos el arreglo de etiquetas\n",
        "y = raw_dataset[:,1]\n",
        "\n",
        "# chequeamos los tamaños de nuestros nuevos conjuntos\n",
        "print('X size: {}'.format(X.shape))\n",
        "print('y size: {}'.format(y.shape))\n",
        "# imprimimos las primeras 4 filas\n",
        "print('First 4 rows from the design matrix:')\n",
        "print(X[0:4,:])\n",
        "print('First 4 labels from the labels array:')\n",
        "print(y[0:4])"
      ],
      "execution_count": 5,
      "outputs": [
        {
          "output_type": "stream",
          "text": [
            "dict_keys(['Species', 'Length1', 'Height', 'Width'])\n",
            "X size: (159, 4)\n",
            "y size: (159,)\n",
            "First 4 rows from the design matrix:\n",
            "[[ 0.    23.2   11.52   4.02 ]\n",
            " [ 0.    24.    12.48   4.306]\n",
            " [ 0.    23.9   12.378  4.696]\n",
            " [ 0.    26.3   12.73   4.455]]\n",
            "First 4 labels from the labels array:\n",
            "[242. 290. 340. 363.]\n"
          ],
          "name": "stdout"
        }
      ]
    },
    {
      "cell_type": "markdown",
      "metadata": {
        "id": "dNe6Irfi_DvB",
        "colab_type": "text"
      },
      "source": [
        "# 4. Particionar los datos\n",
        "\n",
        "En este dataset, no contamos con identificadores que nos determinen de qué pez proviene cada muestra, con lo cual no podemos chequear si hay datos repetidos.\n",
        "\n",
        "Se va a utilizar un 70% de los datos disponibles para entrenar/validar el algoritmo (training/validation sets), y un 30% para testear el resultado final (test set). Y para evitar un sesgo en la selección de nuestros datos, vamos a hacer particiones aleatorias. Además porque nuestros datos en el dataset están ordenados por especie, por lo cual necesitamos aleatorizarlos."
      ]
    },
    {
      "cell_type": "code",
      "metadata": {
        "id": "fXsR6giv_36o",
        "colab_type": "code",
        "outputId": "f98d45ab-3575-4622-ced8-0069693c86dc",
        "colab": {
          "base_uri": "https://localhost:8080/",
          "height": 87
        }
      },
      "source": [
        "# calculamos la cantidad de muestras de entrenamiento/validación y test\n",
        "n_trainval = round(0.7 * X.shape[0])\n",
        "n_test = X.shape[0] - n_trainval\n",
        "\n",
        "# vamos a generar una secuencia de índices de 0 al total de muestras, con la que\n",
        "# representaremos cada muestra en nuestra matriz de diseño\n",
        "idx = list(range(0,X.shape[0]))\n",
        "print('First 5 indices (without shuffling): {}'.format(idx[0:5]))\n",
        "# ahora vamos a aleatorizar el orden de esta lista, para que ya no sean \n",
        "# consecutivos\n",
        "random.shuffle(idx)\n",
        "print('First 5 indices (after shuffling): {}'.format(idx[0:5]))\n",
        "# si extraemos las primeras n_trainval muestras de X usando los índices\n",
        "# aleatorizados que hemos generado, esto equivale a tomar unas muestra aleatoria\n",
        "X_trainval = X[idx[0:n_trainval],:]\n",
        "y_trainval = y[idx[0:n_trainval]]\n",
        "X_test = X[idx[n_trainval:],:]\n",
        "y_test = y[idx[n_trainval:]]\n",
        "# verificamos sus tamaños\n",
        "print('Train/val set size: {}'.format(X_trainval.shape))\n",
        "print('Test set size: {}'.format(X_test.shape))"
      ],
      "execution_count": 6,
      "outputs": [
        {
          "output_type": "stream",
          "text": [
            "First 5 indices (without shuffling): [0, 1, 2, 3, 4]\n",
            "First 5 indices (after shuffling): [91, 88, 36, 50, 69]\n",
            "Train/val set size: (111, 4)\n",
            "Test set size: (48, 4)\n"
          ],
          "name": "stdout"
        }
      ]
    },
    {
      "cell_type": "markdown",
      "metadata": {
        "id": "nBmLt_QEAbyP",
        "colab_type": "text"
      },
      "source": [
        "De ese 70% de datos que separamos para entrenar/validar el algoritmo, nos quedaremos con un 90% para entrenar el algoritmo (training set), y el 10% restante para validar las configuraciones (validation set). Igual que antes, utilizaremos particiones aleatorias."
      ]
    },
    {
      "cell_type": "code",
      "metadata": {
        "id": "w31apHmkAdpg",
        "colab_type": "code",
        "outputId": "43a10df1-4530-4b09-b1c5-ce415c94a5c1",
        "colab": {
          "base_uri": "https://localhost:8080/",
          "height": 70
        }
      },
      "source": [
        "# calculamos la cantidad de muestras de entrenamiento y validación\n",
        "n_train = round(0.9 * X_trainval.shape[0])\n",
        "n_val = X_trainval.shape[0] - n_train\n",
        "\n",
        "# si extraemos las primeras n_trainval muestras de X usando los índices\n",
        "# aleatorizados que hemos generado, esto equivale a tomar unas muestra aleatoria\n",
        "X_train = X[idx[0:n_train],:]\n",
        "y_train = y[idx[0:n_train]]\n",
        "X_val = X[idx[n_train:n_train+n_val],:]\n",
        "y_val = y[idx[n_train:n_train+n_val]]\n",
        "# verificamos sus tamaños\n",
        "print('Training set size: {}'.format(X_train.shape))\n",
        "print('Validation set size: {}'.format(X_val.shape))\n",
        "print('Test set size: {}'.format(X_test.shape))"
      ],
      "execution_count": 7,
      "outputs": [
        {
          "output_type": "stream",
          "text": [
            "Training set size: (100, 4)\n",
            "Validation set size: (11, 4)\n",
            "Test set size: (48, 4)\n"
          ],
          "name": "stdout"
        }
      ]
    },
    {
      "cell_type": "markdown",
      "metadata": {
        "id": "Ov7ZU4SUAuZg",
        "colab_type": "text"
      },
      "source": [
        "Una vez que tenemos las particiones realizadas, vamos a chequear si los conjuntos no tienen algún sesgo. Para comparar las distribuciones vamos a utilizar un histograma."
      ]
    },
    {
      "cell_type": "code",
      "metadata": {
        "id": "Ckbg-KKVBUsX",
        "colab_type": "code",
        "outputId": "ac52b4f9-6d5f-45d7-cf65-fdbbfaab71ef",
        "colab": {
          "base_uri": "https://localhost:8080/",
          "height": 365
        }
      },
      "source": [
        "from matplotlib import pyplot as plt\n",
        "\n",
        "relative_frequency = True\n",
        "n_bins = 50\n",
        "\n",
        "# creamos el canvas de la figura\n",
        "fig=plt.figure()\n",
        "# agregamos los ejes\n",
        "ax=fig.add_axes([0,0,1,1])\n",
        "# hacemos histogramas de 50 baldes para los datos de entrenamiento, validación y\n",
        "# test, en los colores azul (b), verde (g) y rojo (r), con cierta transparencia \n",
        "# alpha\n",
        "ax.hist(y_train, n_bins, density=relative_frequency, facecolor='b', alpha=0.25)\n",
        "ax.hist(y_val, n_bins, density=relative_frequency, facecolor='g', alpha=0.25)\n",
        "ax.hist(y_test, n_bins, density=relative_frequency, facecolor='r', alpha=0.25)\n",
        "# agregamos las etiquetas de los ejes x e y\n",
        "ax.set_xlabel('Median value of weight of fishes in Grams g')\n",
        "if relative_frequency:\n",
        "  ax.set_ylabel('Relative Frequency')\n",
        "else:\n",
        "  ax.set_ylabel('Absolute Frequency')\n",
        "# le colocamos un título\n",
        "ax.set_title('Histograms of y - Training, validation and test set')\n",
        "# agregamos la leyenda\n",
        "ax.legend(['Training', 'Validation', 'Test'])\n",
        "ax.grid(True)\n",
        "# lo mostramos por pantalla\n",
        "plt.show()"
      ],
      "execution_count": 8,
      "outputs": [
        {
          "output_type": "display_data",
          "data": {
            "image/png": "[encoded data removed]",
            "text/plain": [
              "<Figure size 432x288 with 1 Axes>"
            ]
          },
          "metadata": {
            "tags": [],
            "needs_background": "light"
          }
        }
      ]
    },
    {
      "cell_type": "markdown",
      "metadata": {
        "id": "mk4vnyv0HGU-",
        "colab_type": "text"
      },
      "source": [
        "Puede verse que los perfiles de las curvas son más o menos similares, con los valores más frecuentes para la variable objetivo (el peso de los peces) entre el 0 y 250 gramos.\n",
        "Además dicha variable se distribuye mas o menos parecida en cada conjunto por lo que podemos decir que estamos entrenando el algoritmo con distribuciones representativas."
      ]
    },
    {
      "cell_type": "markdown",
      "metadata": {
        "id": "kVHlzi1cMW1V",
        "colab_type": "text"
      },
      "source": [
        "# 5. Análisis visual de los datos (de entrenamiento)\n",
        "\n",
        "El siguiente paso es estudiar un poco los datos de entrenamiento, para conocer un poco más las features que estamos usando. "
      ]
    },
    {
      "cell_type": "code",
      "metadata": {
        "id": "JuyAUF3vMkKR",
        "colab_type": "code",
        "outputId": "40d10ec5-5c89-42bd-f3ff-6414d196c197",
        "colab": {
          "base_uri": "https://localhost:8080/",
          "height": 365
        }
      },
      "source": [
        "import matplotlib.pyplot as plt\n",
        "\n",
        "# modificar esta variable con el índice de la feature que se quiere analizar\n",
        "variable_to_print = 2\n",
        "# modificar esta variable para determinar el número de baldes que vamos a usar\n",
        "n_bins = 20\n",
        "# recuperamos su tag y un string con su tag y descripción\n",
        "tag = list(feature_labels.keys())[variable_to_print]\n",
        "feature_id_and_description = tag + ' - ' + feature_labels[tag]\n",
        "\n",
        "# creamos el canvas de la figura\n",
        "fig=plt.figure()\n",
        "# agregamos los ejes\n",
        "ax=fig.add_axes([0,0,1,1])\n",
        "# hacemos histogramas de 50 baldes para los datos de entrenamiento, validación y\n",
        "# test, en los colores azul (b), verde (g) y rojo (r), con cierta transparencia \n",
        "# alpha\n",
        "ax.hist(X_train[:,variable_to_print], n_bins, density=relative_frequency, facecolor='b', alpha=0.25)\n",
        "# agregamos las etiquetas de los ejes x e y\n",
        "ax.set_xlabel(feature_id_and_description)\n",
        "if relative_frequency:\n",
        "  ax.set_ylabel('Relative Frequency')\n",
        "else:\n",
        "  ax.set_ylabel('Absolute Frequency')\n",
        "# le colocamos un título\n",
        "ax.set_title('Histograms of {}'.format(feature_id_and_description))\n",
        "ax.grid(True)\n",
        "# lo mostramos por pantalla\n",
        "plt.show()"
      ],
      "execution_count": 9,
      "outputs": [
        {
          "output_type": "display_data",
          "data": {
            "image/png": "[encoded data removed]",
            "text/plain": [
              "<Figure size 432x288 with 1 Axes>"
            ]
          },
          "metadata": {
            "tags": [],
            "needs_background": "light"
          }
        }
      ]
    },
    {
      "cell_type": "markdown",
      "metadata": {
        "id": "A6F3M8wwMtvB",
        "colab_type": "text"
      },
      "source": [
        "A continuación, se estudian los datos mediante scatter plots (gráficos de dispersión), ya que nos permiten vincular dos o tres variables y observar en un espacio 2D o 3D qué relación tienen entre sí."
      ]
    },
    {
      "cell_type": "code",
      "metadata": {
        "id": "RWuAjD2yMx0R",
        "colab_type": "code",
        "outputId": "fd95753f-0f4b-40ed-fda5-1651f272fc14",
        "colab": {
          "base_uri": "https://localhost:8080/",
          "height": 365
        }
      },
      "source": [
        "from matplotlib import pyplot as plt\n",
        "\n",
        "# modificar esta variable con el índice de la feature que se quiere analizar\n",
        "variable_to_print = 1\n",
        "# recuperamos su tag y un string con su tag y descripción\n",
        "tag = list(feature_labels.keys())[variable_to_print]\n",
        "feature_id_and_description = tag + ' - ' + feature_labels[tag]\n",
        "# generamos un scatter plot: por defecto, la variable objetivo la colocamos en \n",
        "# el eje Y, y a la variable cuya influencia queremos estudiar la colocamos en el \n",
        "# eje X\n",
        "fig=plt.figure()\n",
        "ax=fig.add_axes([0,0,1,1])\n",
        "ax.scatter(X_train[:,variable_to_print], y_train)\n",
        "ax.grid(True)\n",
        "ax.set_xlabel(feature_id_and_description)\n",
        "ax.set_ylabel('Peso del pez (en gramos)')\n",
        "ax.set_title('Scatter plot - {} vs peso'.format(tag))\n",
        "plt.show()"
      ],
      "execution_count": 10,
      "outputs": [
        {
          "output_type": "display_data",
          "data": {
            "image/png": "[encoded data removed]",
            "text/plain": [
              "<Figure size 432x288 with 1 Axes>"
            ]
          },
          "metadata": {
            "tags": [],
            "needs_background": "light"
          }
        }
      ]
    },
    {
      "cell_type": "markdown",
      "metadata": {
        "id": "BnKtHgL9NEQx",
        "colab_type": "text"
      },
      "source": [
        "Finalmente, y lo más representativo para este análisis, comparamos una feature con otra, para estudiar si ambas tienen alguna relación entre sí."
      ]
    },
    {
      "cell_type": "code",
      "metadata": {
        "id": "0nOjQE6TNGd5",
        "colab_type": "code",
        "outputId": "8623ff75-59ed-43a5-dcdc-bfbbf8ac492b",
        "colab": {
          "base_uri": "https://localhost:8080/",
          "height": 365
        }
      },
      "source": [
        "from matplotlib import pyplot as plt\n",
        "\n",
        "# modificar esta variable con los índices de las características que queremos\n",
        "# comparar\n",
        "variables_to_compare = [1, 2]\n",
        "# recuperamos los tags y las descripciones\n",
        "tags = list([None]) * len(variables_to_compare)\n",
        "features_ids_and_descriptions = list([None]) * len(variables_to_compare)\n",
        "for i in range(len(variables_to_compare)):\n",
        "  tags[i] = list(feature_labels.keys())[variables_to_compare[i]]\n",
        "  features_ids_and_descriptions[i] = tags[i] + ' - ' + feature_labels[tags[i]]\n",
        "# generamos un scatter plot\n",
        "fig=plt.figure()\n",
        "ax=fig.add_axes([0,0,1,1])\n",
        "ax.scatter(X[:,variables_to_compare[0]], X[:,variables_to_compare[1]])\n",
        "ax.grid(True)\n",
        "ax.set_xlabel(features_ids_and_descriptions[0])\n",
        "ax.set_ylabel(features_ids_and_descriptions[1])\n",
        "ax.set_title('Scatter plot - {} vs {}'.format(tags[0], tags[1]))\n",
        "plt.show()"
      ],
      "execution_count": 11,
      "outputs": [
        {
          "output_type": "display_data",
          "data": {
            "image/png": "[encoded data removed]",
            "text/plain": [
              "<Figure size 432x288 with 1 Axes>"
            ]
          },
          "metadata": {
            "tags": [],
            "needs_background": "light"
          }
        }
      ]
    },
    {
      "cell_type": "markdown",
      "metadata": {
        "id": "hJT4LtPJ2D9X",
        "colab_type": "text"
      },
      "source": [
        "Comparando una feature con otra, se pudo observar:\n",
        "- Que los peces mas pesados son los de la especie 0,2,4 y 5\n",
        "- Que los peces mas livianos son de la especie 1 y 6\n",
        "- Para las 3 features (Length1, Length2 y Length3), se puede observar que a medida que aumentan, aumenta el peso del pez (de forma lineal) y están muy vinculadas entre ellas.\n",
        "- Lo anterior no es tan claro para la altura (Heigth) del pez, a pesar de que a medida que aumente gralmente aumenta el peso del pez, en el gráfico se observan 3 distintas ramas de crecimiento diferentes.\n",
        "\n",
        "**La conclusión que se saca de estas comparaciones es que las 3 features de las longitudes están (logicamente) fuertemente relacionadas, por lo cual se van a eliminar 2 de ellas dejando sólo 1.**"
      ]
    },
    {
      "cell_type": "markdown",
      "metadata": {
        "id": "OlAGRUbA72Gr",
        "colab_type": "text"
      },
      "source": [
        "# 6. Normalización y estandarización de los datos\n",
        "\n",
        "Para evaluar los rangos, vamor a tomar el mínimo y máximo por columnas de nuestros datos de entrenamiento, y evaluar lo que obtenemos."
      ]
    },
    {
      "cell_type": "code",
      "metadata": {
        "id": "odBW6QuG8Jbj",
        "colab_type": "code",
        "outputId": "268e303d-ad43-49ae-8811-08965d3aefd8",
        "colab": {
          "base_uri": "https://localhost:8080/",
          "height": 70
        }
      },
      "source": [
        "print('Training set statistics:')\n",
        "print('Min values: {}'.format(np.min(X_train, axis=0)))\n",
        "print('Max values: {}'.format(np.max(X_train, axis=0)))"
      ],
      "execution_count": 13,
      "outputs": [
        {
          "output_type": "stream",
          "text": [
            "Training set statistics:\n",
            "Min values: [0.    9.3   1.739 1.048]\n",
            "Max values: [ 6.    56.    18.957  7.796]\n"
          ],
          "name": "stdout"
        }
      ]
    },
    {
      "cell_type": "markdown",
      "metadata": {
        "id": "5EhsI04V9BBp",
        "colab_type": "text"
      },
      "source": [
        "Puede verse que algunas features tienen rangos diferentes entre sí.\n",
        "Para realizar la corrección sobre los datos vamos a normalizarlos aplicando la operación de **feature scaling**, que nos asegura que todas las features vivan en el intervalo [0, 1].\n",
        "Vamos a verificar si conocemos el valor máximo/mínimo que puede tomar cada una de las features:\n",
        "\n",
        "*   **Species** : Nombre de la especie del pez (son 7 categorías por lo que los valores van del 0 al 6)\n",
        "*   **Length1** : Longitud del pez **(no conocemos el valor máximo)**\n",
        "*   **Height** : Altura del pez **(no conocemos el valor máximo)**\n",
        "*   **Width** : Anchura del pez **(no conocemos el valor máximo)**\n",
        "\n",
        "Dado que tenemos varias variables a las que no les conocemos su valor máximo, vamos a normalizarlas estimando máximos y mínimos a partir de los datos de entrenamiento."
      ]
    },
    {
      "cell_type": "code",
      "metadata": {
        "id": "ONyscBDL-TTy",
        "colab_type": "code",
        "outputId": "3fa8a277-e8da-43e5-cd8a-230a2c617848",
        "colab": {
          "base_uri": "https://localhost:8080/",
          "height": 70
        }
      },
      "source": [
        "# calculamos los vectores de valores máximos y mínimos\n",
        "max_values = np.max(X_train, axis=0)\n",
        "min_values = np.min(X_train, axis=0)\n",
        "# a cada fila de la matriz le restamos el valor mínimo y la dividimos por\n",
        "X_train_norm = (X_train - min_values) / (max_values - min_values)\n",
        "# chequeamos sus valores máximos y mínimos\n",
        "print('X_train_norm')\n",
        "print('Min: {}'.format(np.min(X_train_norm, axis=0)))\n",
        "print('Max: {}'.format(np.max(X_train_norm, axis=0)))"
      ],
      "execution_count": 14,
      "outputs": [
        {
          "output_type": "stream",
          "text": [
            "X_train_norm\n",
            "Min: [0. 0. 0. 0.]\n",
            "Max: [1. 1. 1. 1.]\n"
          ],
          "name": "stdout"
        }
      ]
    },
    {
      "cell_type": "markdown",
      "metadata": {
        "id": "PfQT4dwV-aAw",
        "colab_type": "text"
      },
      "source": [
        "Ahora vamos a normalizar también los datos de validación y test"
      ]
    },
    {
      "cell_type": "code",
      "metadata": {
        "id": "4T1dvu3U-d6B",
        "colab_type": "code",
        "outputId": "d999eaa7-c77a-4795-ca85-02c6b5bc4bba",
        "colab": {
          "base_uri": "https://localhost:8080/",
          "height": 158
        }
      },
      "source": [
        "# repetimos en los datos de validación y test\n",
        "X_val_norm = (X_val - min_values) / (max_values - min_values)\n",
        "X_test_norm = (X_test - min_values) / (max_values - min_values)\n",
        "# mostramos los valores máximos y mínimos\n",
        "print('X_val_norm')\n",
        "print('Min: {}'.format(np.min(X_val_norm, axis=0)))\n",
        "print('Max: {}'.format(np.max(X_val_norm, axis=0)))\n",
        "print('\\n\\nX_test_norm')\n",
        "print('Min: {}'.format(np.min(X_test_norm, axis=0)))\n",
        "print('Max: {}'.format(np.max(X_test_norm, axis=0)))"
      ],
      "execution_count": 15,
      "outputs": [
        {
          "output_type": "stream",
          "text": [
            "X_val_norm\n",
            "Min: [0.167 0.024 0.02  0.049]\n",
            "Max: [1.    1.064 0.617 0.953]\n",
            "\n",
            "\n",
            "X_test_norm\n",
            "Min: [ 0.    -0.039 -0.001  0.015]\n",
            "Max: [1.    0.914 0.947 1.051]\n"
          ],
          "name": "stdout"
        }
      ]
    },
    {
      "cell_type": "markdown",
      "metadata": {
        "id": "d-lZSvwo_P2v",
        "colab_type": "text"
      },
      "source": [
        "Ahora bien, feature scaling es una de las opciones para corregir las asimetrías entre los datos. La otra (y la más recomendada) es la **estandarización**."
      ]
    },
    {
      "cell_type": "code",
      "metadata": {
        "id": "-Y31YnWZ_WUQ",
        "colab_type": "code",
        "outputId": "77cf13b0-9b46-455b-9d45-7eb8cbca1d3b",
        "colab": {
          "base_uri": "https://localhost:8080/",
          "height": 247
        }
      },
      "source": [
        "# estimamos media y desvío a partir de los datos de entrenamiento\n",
        "mu = np.mean(X_train, axis=0)\n",
        "sigma = np.std(X_train, axis=0)\n",
        "# los imprimimos para ver cómo eran\n",
        "print('X_train:')\n",
        "print('Mean')\n",
        "print(mu)\n",
        "print('Std')\n",
        "print(sigma)\n",
        "# lo aplicamos sobre los datos de entrenamiento, validación y test\n",
        "X_train_stand = (X_train - mu) / sigma\n",
        "# imprimimos los valores que nos quedan ahora\n",
        "print('\\nX_train_stand:')\n",
        "print('Mean')\n",
        "print(np.mean(X_train_stand, axis=0))\n",
        "print('Std')\n",
        "print(np.std(X_train_stand, axis=0))\n",
        "\n",
        "# repetimos la operación sobre los datos de validación y test\n",
        "X_val_stand = (X_val - mu) / sigma\n",
        "X_test_stand = (X_test - mu) / sigma\n",
        "\n",
        "# salvamos los datos para usarlos más adelante\n",
        "import pickle\n",
        "print('\\nSaving {}'.format(path.join(datasets_folder, 'fish_dataset_partitioned.pkl')))\n",
        "with open(path.join(datasets_folder, 'fish_dataset_partitioned.pkl'), 'wb') as f:\n",
        "    partitioned_dataset = {'X_train': X_train_stand, 'X_val': X_val_stand, 'X_test': X_test_stand,\n",
        "                           'y_train': y_train, 'y_val': y_val, 'y_test': y_test,\n",
        "                           'feature_labels': feature_labels, 'mu': mu, 'sigma': sigma}\n",
        "    pickle.dump(partitioned_dataset, f)\n"
      ],
      "execution_count": 16,
      "outputs": [
        {
          "output_type": "stream",
          "text": [
            "X_train:\n",
            "Mean\n",
            "[ 2.82  26.39   9.061  4.411]\n",
            "Std\n",
            "[2.066 9.45  4.374 1.593]\n",
            "\n",
            "X_train_stand:\n",
            "Mean\n",
            "[ 0. -0.  0.  0.]\n",
            "Std\n",
            "[1. 1. 1. 1.]\n",
            "\n",
            "Saving /content/gdrive/My Drive/Colab Notebooks/DUIA/2020/Machine Learning/fish_dataset_partitioned.pkl\n"
          ],
          "name": "stdout"
        }
      ]
    },
    {
      "cell_type": "markdown",
      "metadata": {
        "id": "Vi5E8LYU_civ",
        "colab_type": "text"
      },
      "source": [
        "Podemos ver ahora cómo nuestras muestras de entrenamiento han quedado centradas, y hemos aplicado el mismo criterio sobre los datos de validación y test.\n",
        "\n",
        "Finalmente, vamos a observar cómo quedaron los datos de entrenamiento tras realizar la estandarización:"
      ]
    },
    {
      "cell_type": "code",
      "metadata": {
        "id": "GVT0BUP4_eDw",
        "colab_type": "code",
        "outputId": "96045cc9-fffe-474c-ed9c-c2ef0c2a0d76",
        "colab": {
          "base_uri": "https://localhost:8080/",
          "height": 310
        }
      },
      "source": [
        "from matplotlib import pyplot as plt\n",
        "\n",
        "# modificar esta variable con los índices de las características que queremos\n",
        "# comparar\n",
        "variables_to_compare = [2, 3]\n",
        "tags = list([None]) * len(variables_to_compare)\n",
        "for i in range(len(variables_to_compare)):\n",
        "  tags[i] = list(feature_labels.keys())[variables_to_compare[i]]\n",
        "\n",
        "# generamos un scatter plot con los datos antes de estandarizar\n",
        "fig, (ax1, ax2) =plt.subplots(1, 2)\n",
        "plt.subplots_adjust(wspace=0.5)\n",
        "ax1.scatter(X_train[:,variables_to_compare[0]], X_train[:,variables_to_compare[1]], facecolor='b', alpha=0.25)\n",
        "ax1.grid(True)\n",
        "ax1.set_xlabel(tags[0])\n",
        "ax1.set_ylabel(tags[1])\n",
        "ax1.legend(['Training'])\n",
        "ax1.set_title('{} vs {}\\n(before stand)'.format(tags[0], tags[1]))\n",
        "\n",
        "# generamos un scatter plot con los datos estandarizados\n",
        "ax2.scatter(X_train_stand[:,variables_to_compare[0]], X_train_stand[:,variables_to_compare[1]], facecolor='b', alpha=0.25)\n",
        "circle1 = plt.Circle((0, 0), 1, color='r', alpha=0.7, fill=False)\n",
        "circle2 = plt.Circle((0, 0), 2, color='r', alpha=0.4, fill=False)\n",
        "circle3 = plt.Circle((0, 0), 3, color='r', alpha=0.2, fill=False)\n",
        "ax2.add_artist(circle1)\n",
        "ax2.add_artist(circle2)\n",
        "ax2.add_artist(circle3)\n",
        "ax2.set_xlim(-4, 4)\n",
        "ax2.set_ylim(-4, 4)\n",
        "ax2.grid(True)\n",
        "ax2.set_xlabel(tags[0])\n",
        "ax2.set_ylabel(tags[1])\n",
        "ax2.legend(['Training'])\n",
        "ax2.set_title('{} vs {}\\n(after stand)'.format(tags[0], tags[1]))\n",
        "\n",
        "plt.show()"
      ],
      "execution_count": 17,
      "outputs": [
        {
          "output_type": "display_data",
          "data": {
            "image/png": "[encoded data removed]",
            "text/plain": [
              "<Figure size 432x288 with 2 Axes>"
            ]
          },
          "metadata": {
            "tags": [],
            "needs_background": "light"
          }
        }
      ]
    },
    {
      "cell_type": "code",
      "metadata": {
        "id": "TW5xszwgoS6V",
        "colab_type": "code",
        "outputId": "64953a26-72d3-4e71-cfcf-d4acbd4f2d2f",
        "colab": {
          "base_uri": "https://localhost:8080/",
          "height": 310
        }
      },
      "source": [
        "from matplotlib import pyplot as plt\n",
        "\n",
        "# modificar esta variable con los índices de las características que queremos\n",
        "# comparar\n",
        "variables_to_compare = [1, 2]\n",
        "tags = list([None]) * len(variables_to_compare)\n",
        "for i in range(len(variables_to_compare)):\n",
        "  tags[i] = list(feature_labels.keys())[variables_to_compare[i]]\n",
        "\n",
        "# generamos un scatter plot con los datos antes de estandarizar\n",
        "fig, (ax1, ax2) =plt.subplots(1, 2)\n",
        "plt.subplots_adjust(wspace=0.5)\n",
        "ax1.scatter(X_train[:,variables_to_compare[0]], X_train[:,variables_to_compare[1]], facecolor='b', alpha=0.25)\n",
        "ax1.grid(True)\n",
        "ax1.set_xlabel(tags[0])\n",
        "ax1.set_ylabel(tags[1])\n",
        "ax1.legend(['Training'])\n",
        "ax1.set_title('{} vs {}\\n(before stand)'.format(tags[0], tags[1]))\n",
        "\n",
        "# generamos un scatter plot con los datos estandarizados\n",
        "ax2.scatter(X_train_stand[:,variables_to_compare[0]], X_train_stand[:,variables_to_compare[1]], facecolor='b', alpha=0.25)\n",
        "circle1 = plt.Circle((0, 0), 1, color='r', alpha=0.7, fill=False)\n",
        "circle2 = plt.Circle((0, 0), 2, color='r', alpha=0.4, fill=False)\n",
        "circle3 = plt.Circle((0, 0), 3, color='r', alpha=0.2, fill=False)\n",
        "ax2.add_artist(circle1)\n",
        "ax2.add_artist(circle2)\n",
        "ax2.add_artist(circle3)\n",
        "ax2.set_xlim(-4, 4)\n",
        "ax2.set_ylim(-4, 4)\n",
        "ax2.grid(True)\n",
        "ax2.set_xlabel(tags[0])\n",
        "ax2.set_ylabel(tags[1])\n",
        "ax2.legend(['Training'])\n",
        "ax2.set_title('{} vs {}\\n(after stand)'.format(tags[0], tags[1]))\n",
        "\n",
        "plt.show()"
      ],
      "execution_count": 18,
      "outputs": [
        {
          "output_type": "display_data",
          "data": {
            "image/png": "[encoded data removed]",
            "text/plain": [
              "<Figure size 432x288 with 2 Axes>"
            ]
          },
          "metadata": {
            "tags": [],
            "needs_background": "light"
          }
        }
      ]
    },
    {
      "cell_type": "code",
      "metadata": {
        "id": "rAQ5Owd7pR-L",
        "colab_type": "code",
        "outputId": "3c58b8a7-d307-41cb-cdc6-ac9a561d51ce",
        "colab": {
          "base_uri": "https://localhost:8080/",
          "height": 310
        }
      },
      "source": [
        "from matplotlib import pyplot as plt\n",
        "\n",
        "# modificar esta variable con los índices de las características que queremos\n",
        "# comparar\n",
        "variables_to_compare = [1, 3]\n",
        "tags = list([None]) * len(variables_to_compare)\n",
        "for i in range(len(variables_to_compare)):\n",
        "  tags[i] = list(feature_labels.keys())[variables_to_compare[i]]\n",
        "\n",
        "# generamos un scatter plot con los datos antes de estandarizar\n",
        "fig, (ax1, ax2) =plt.subplots(1, 2)\n",
        "plt.subplots_adjust(wspace=0.5)\n",
        "ax1.scatter(X_train[:,variables_to_compare[0]], X_train[:,variables_to_compare[1]], facecolor='b', alpha=0.25)\n",
        "ax1.grid(True)\n",
        "ax1.set_xlabel(tags[0])\n",
        "ax1.set_ylabel(tags[1])\n",
        "ax1.legend(['Training'])\n",
        "ax1.set_title('{} vs {}\\n(before stand)'.format(tags[0], tags[1]))\n",
        "\n",
        "# generamos un scatter plot con los datos estandarizados\n",
        "ax2.scatter(X_train_stand[:,variables_to_compare[0]], X_train_stand[:,variables_to_compare[1]], facecolor='b', alpha=0.25)\n",
        "circle1 = plt.Circle((0, 0), 1, color='r', alpha=0.7, fill=False)\n",
        "circle2 = plt.Circle((0, 0), 2, color='r', alpha=0.4, fill=False)\n",
        "circle3 = plt.Circle((0, 0), 3, color='r', alpha=0.2, fill=False)\n",
        "ax2.add_artist(circle1)\n",
        "ax2.add_artist(circle2)\n",
        "ax2.add_artist(circle3)\n",
        "ax2.set_xlim(-4, 4)\n",
        "ax2.set_ylim(-4, 4)\n",
        "ax2.grid(True)\n",
        "ax2.set_xlabel(tags[0])\n",
        "ax2.set_ylabel(tags[1])\n",
        "ax2.legend(['Training'])\n",
        "ax2.set_title('{} vs {}\\n(after stand)'.format(tags[0], tags[1]))\n",
        "\n",
        "plt.show()"
      ],
      "execution_count": 19,
      "outputs": [
        {
          "output_type": "display_data",
          "data": {
            "image/png": "[encoded data removed]",
            "text/plain": [
              "<Figure size 432x288 with 2 Axes>"
            ]
          },
          "metadata": {
            "tags": [],
            "needs_background": "light"
          }
        }
      ]
    },
    {
      "cell_type": "markdown",
      "metadata": {
        "id": "Svp-vbUe_ugB",
        "colab_type": "text"
      },
      "source": [
        "Podemos ver que la estandarización nos centró cerca del 0, y que efectivamente nuestros datos están contenidos dentro de los valores de desvíos esperados. \n",
        "A pesar de que queda claro que sólo se debe usar feature scaling si no se puede aplicar estandarización, de todas formas se aplicó para evaluarlo."
      ]
    }
  ]
}